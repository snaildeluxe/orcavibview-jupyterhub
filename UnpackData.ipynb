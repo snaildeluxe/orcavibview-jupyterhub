{
 "cells": [
  {
   "cell_type": "code",
   "execution_count": 1,
   "id": "7060f3f6-930c-40c4-a671-a005a1235f6b",
   "metadata": {},
   "outputs": [
    {
     "name": "stdout",
     "output_type": "stream",
     "text": [
      "All zip files extracted and deleted.\n"
     ]
    }
   ],
   "source": [
    "import zipfile\n",
    "import os\n",
    "\n",
    "def unzip_and_delete_all(root_dir='.'):\n",
    "    \"\"\"\n",
    "    Unzip all .zip files in root_dir and its subdirectories,\n",
    "    then delete the zip files after extraction.\n",
    "    \"\"\"\n",
    "    for foldername, subfolders, filenames in os.walk(root_dir):\n",
    "        for filename in filenames:\n",
    "            if filename.lower().endswith('.zip'):\n",
    "                zip_path = os.path.join(foldername, filename)\n",
    "                extract_dir = os.path.splitext(zip_path)[0]\n",
    "                \n",
    "                print(f'Extracting: {zip_path} to {extract_dir}')\n",
    "                with zipfile.ZipFile(zip_path, 'r') as zip_ref:\n",
    "                    zip_ref.extractall(extract_dir)\n",
    "                \n",
    "                print(f'Deleting zip file: {zip_path}')\n",
    "                os.remove(zip_path)\n",
    "\n",
    "    print(\"All zip files extracted and deleted.\")\n",
    "\n",
    "# Run the function in the current directory and all subdirectories\n",
    "unzip_and_delete_all()"
   ]
  },
  {
   "cell_type": "code",
   "execution_count": null,
   "id": "601dd3cd-1103-4cfb-b27d-82c3f1502310",
   "metadata": {},
   "outputs": [],
   "source": []
  }
 ],
 "metadata": {
  "kernelspec": {
   "display_name": "Python 3 (ipykernel)",
   "language": "python",
   "name": "python3"
  },
  "language_info": {
   "codemirror_mode": {
    "name": "ipython",
    "version": 3
   },
   "file_extension": ".py",
   "mimetype": "text/x-python",
   "name": "python",
   "nbconvert_exporter": "python",
   "pygments_lexer": "ipython3",
   "version": "3.11.2"
  }
 },
 "nbformat": 4,
 "nbformat_minor": 5
}
