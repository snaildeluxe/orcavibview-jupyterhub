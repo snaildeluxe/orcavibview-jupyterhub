{
 "cells": [
  {
   "cell_type": "code",
   "execution_count": null,
   "metadata": {
    "editable": true,
    "slideshow": {
     "slide_type": ""
    },
    "tags": []
   },
   "outputs": [],
   "source": [
    "# Import\n",
    "import py3Dmol\n",
    "from findout import list_out_files_and_view\n",
    "list_out_files_and_view(base_dir='.', x_min=1000, x_max=1800, fwhm=15)"
   ]
  }
 ],
 "metadata": {
  "interpreter": {
   "hash": "41014d9ef4f1575fd00aab395420944c5c4814a3cabc0b1373f73a24b67da32e"
  },
  "kernelspec": {
   "display_name": "Python 3 (ipykernel)",
   "language": "python",
   "name": "python3"
  },
  "language_info": {
   "codemirror_mode": {
    "name": "ipython",
    "version": 3
   },
   "file_extension": ".py",
   "mimetype": "text/x-python",
   "name": "python",
   "nbconvert_exporter": "python",
   "pygments_lexer": "ipython3",
   "version": "3.11.2"
  }
 },
 "nbformat": 4,
 "nbformat_minor": 4
}
