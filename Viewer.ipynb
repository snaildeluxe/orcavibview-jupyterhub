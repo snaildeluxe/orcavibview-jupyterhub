{
 "cells": [
  {
   "cell_type": "code",
   "execution_count": 6,
   "metadata": {
    "editable": true,
    "slideshow": {
     "slide_type": ""
    },
    "tags": []
   },
   "outputs": [
    {
     "data": {
      "application/vnd.jupyter.widget-view+json": {
       "model_id": "9e5ecdffbbeb416ea632f4b6d8c5765d",
       "version_major": 2,
       "version_minor": 0
      },
      "text/plain": [
       "VBox(children=(Dropdown(description='Select .out:', layout=Layout(width='80%'), options=('./mn1/mn-bs/mnbs-b3l…"
      ]
     },
     "metadata": {},
     "output_type": "display_data"
    },
    {
     "data": {
      "text/plain": [
       "(Dropdown(description='Select .out:', layout=Layout(width='80%'), options=('./mn1/mn-bs/mnbs-b3lyp.out', './mn1/mn-bs/mnbs_camb3lyp.out', './mn1/mn-hs/mnhs-b3lyp.out', './mn3/2PF6/Mn3_diffside.out', './mn3/0PF6/Mn3.out', './mn4/2PF6/Mn4-b3lyp.out', './mn4/2PF6/Mn4-camB3LYP.out', './mn4/3PF6/Mn4-camB3LYP.out', './mn4/3PF6/Mn4-B3LYP.out', './mn2/mn2-camb3lyp.out', './mn2/mn2-b3lyp.out'), value='./mn1/mn-bs/mnbs-b3lyp.out'),\n",
       " Button(button_style='primary', description='Load', style=ButtonStyle()))"
      ]
     },
     "execution_count": 6,
     "metadata": {},
     "output_type": "execute_result"
    }
   ],
   "source": [
    "# Import\n",
    "import py3Dmol\n",
    "from findout import list_out_files_and_view\n",
    "list_out_files_and_view(base_dir='.', x_min=1000, x_max=1800, fwhm=15)"
   ]
  },
  {
   "cell_type": "code",
   "execution_count": null,
   "metadata": {},
   "outputs": [],
   "source": []
  }
 ],
 "metadata": {
  "interpreter": {
   "hash": "41014d9ef4f1575fd00aab395420944c5c4814a3cabc0b1373f73a24b67da32e"
  },
  "kernelspec": {
   "display_name": "Python 3 (ipykernel)",
   "language": "python",
   "name": "python3"
  },
  "language_info": {
   "codemirror_mode": {
    "name": "ipython",
    "version": 3
   },
   "file_extension": ".py",
   "mimetype": "text/x-python",
   "name": "python",
   "nbconvert_exporter": "python",
   "pygments_lexer": "ipython3",
   "version": "3.11.2"
  }
 },
 "nbformat": 4,
 "nbformat_minor": 4
}
